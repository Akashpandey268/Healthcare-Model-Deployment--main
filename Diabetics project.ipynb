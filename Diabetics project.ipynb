{
 "cells": [
  {
   "cell_type": "code",
   "execution_count": null,
   "id": "071e86ae",
   "metadata": {},
   "outputs": [],
   "source": [
    "import numpy as np\n",
    "import pandas as pd\n",
    "import matplotlib.pyplot as plt\n",
    "from sklearn.linear_model import LogisticRegression\n",
    "from sklearn.model_selection import train_test_split,GridSearchCV,cross_val_score\n",
    "import seaborn as sns\n",
    "from sklearn.metrics import accuracy_score,mean_squared_error,classification_report,confusion_matrix,precision_score,recall_score,roc_curve,auc\n",
    "from sklearn.feature_selection import SelectKBest\n",
    "from sklearn.feature_selection import chi2\n",
    "from sklearn.ensemble import ExtraTreesClassifier,RandomForestClassifier\n",
    "from sklearn.tree import DecisionTreeClassifier\n",
    "from sklearn.svm import SVC \n",
    "from sklearn.naive_bayes import GaussianNB\n",
    "from sklearn.preprocessing import StandardScaler,MinMaxScaler\n",
    "from sklearn.neighbors import KNeighborsClassifier\n",
    "import warnings\n",
    "warnings.filterwarnings('ignore')"
   ]
  },
  {
   "cell_type": "code",
   "execution_count": null,
   "id": "6cb38953",
   "metadata": {},
   "outputs": [],
   "source": [
    "# Import data\n",
    "data=pd.read_csv('health care diabetes.csv')\n",
    "data"
   ]
  },
  {
   "cell_type": "raw",
   "id": "27d06d33",
   "metadata": {},
   "source": [
    "# Checking Null Values\n",
    "data.isna().sum()"
   ]
  },
  {
   "cell_type": "raw",
   "id": "b638f99a",
   "metadata": {},
   "source": [
    "plt.figure(figsize=(10,7))\n",
    "sns.heatmap(data.corr(),annot=True)"
   ]
  },
  {
   "cell_type": "code",
   "execution_count": null,
   "id": "1ad59347",
   "metadata": {},
   "outputs": [],
   "source": [
    "data['Outcome'].value_counts()"
   ]
  },
  {
   "cell_type": "raw",
   "id": "fec481a3",
   "metadata": {},
   "source": [
    "sns.countplot(data['Outcome'])"
   ]
  },
  {
   "cell_type": "code",
   "execution_count": null,
   "id": "c68896c1",
   "metadata": {},
   "outputs": [],
   "source": [
    "x=data.drop(['Outcome','BloodPressure','SkinThickness'],axis=1)\n",
    "x.head()"
   ]
  },
  {
   "cell_type": "code",
   "execution_count": null,
   "id": "faf3616b",
   "metadata": {},
   "outputs": [],
   "source": [
    "y=data['Outcome']"
   ]
  },
  {
   "cell_type": "code",
   "execution_count": null,
   "id": "09d7b05d",
   "metadata": {},
   "outputs": [],
   "source": [
    "trainx,testx,trainy,testy=train_test_split(x,y,test_size=0.20,random_state=44)"
   ]
  },
  {
   "cell_type": "code",
   "execution_count": null,
   "id": "838687bf",
   "metadata": {},
   "outputs": [],
   "source": [
    "#print(\"Before OverSampling, counts of label '1': {}\".format(sum(trainy == 1)))\n",
    "#print(\"Before OverSampling, counts of label '0': {} \\n\".format(sum(trainy == 0)))\n",
    "  \n",
    "from imblearn.over_sampling import SMOTE\n",
    "sm = SMOTE(random_state =63)\n",
    "trainx_res,trainy_res = sm.fit_resample(trainx,trainy.ravel())  \n",
    "#print('After OverSampling, the shape of train_X: {}'.format(trainx_res.shape))\n",
    "#print('After OverSampling, the shape of train_y: {} \\n'.format(trainy_res.shape))\n",
    "  \n",
    "\n",
    "#print(\"After OverSampling, counts of label '1': {}\".format(sum(trainy_res == 1)))\n",
    "#print(\"After OverSampling, counts of label '0': {}\".format(sum(trainy_res == 0)))"
   ]
  },
  {
   "cell_type": "markdown",
   "id": "74bfc502",
   "metadata": {},
   "source": [
    "## LogisticRegression"
   ]
  },
  {
   "cell_type": "code",
   "execution_count": null,
   "id": "2e2bbc88",
   "metadata": {},
   "outputs": [],
   "source": [
    "logreg=LogisticRegression()"
   ]
  },
  {
   "cell_type": "code",
   "execution_count": null,
   "id": "96b760ac",
   "metadata": {},
   "outputs": [],
   "source": [
    "logreg.fit(trainx_res,trainy_res)"
   ]
  },
  {
   "cell_type": "code",
   "execution_count": null,
   "id": "0ee658c8",
   "metadata": {},
   "outputs": [],
   "source": [
    "logreg_test_pred=logreg.predict(testx)\n",
    "logreg_train_pred=logreg.predict(trainx)"
   ]
  },
  {
   "cell_type": "code",
   "execution_count": null,
   "id": "2f3ae87d",
   "metadata": {},
   "outputs": [],
   "source": [
    "print(accuracy_score(testy,logreg_test_pred))\n",
    "print(accuracy_score(trainy,logreg_train_pred))"
   ]
  },
  {
   "cell_type": "code",
   "execution_count": null,
   "id": "16c6a8cc",
   "metadata": {},
   "outputs": [],
   "source": [
    "confusion_matrix(testy,logreg_test_pred)"
   ]
  },
  {
   "cell_type": "code",
   "execution_count": null,
   "id": "0a46b3c1",
   "metadata": {},
   "outputs": [],
   "source": [
    "print(classification_report(testy,logreg_test_pred))"
   ]
  },
  {
   "cell_type": "markdown",
   "id": "a5c02f7c",
   "metadata": {},
   "source": [
    "## RandomForestClassifier"
   ]
  },
  {
   "cell_type": "code",
   "execution_count": null,
   "id": "617cb003",
   "metadata": {},
   "outputs": [],
   "source": [
    "rf=RandomForestClassifier(random_state=70)"
   ]
  },
  {
   "cell_type": "code",
   "execution_count": null,
   "id": "a952ea9f",
   "metadata": {},
   "outputs": [],
   "source": [
    "rf.fit(trainx_res,trainy_res)"
   ]
  },
  {
   "cell_type": "code",
   "execution_count": null,
   "id": "dabf6552",
   "metadata": {},
   "outputs": [],
   "source": [
    "rf_test_pred=rf.predict(testx)\n",
    "rf_train_pred=rf.predict(trainx)"
   ]
  },
  {
   "cell_type": "code",
   "execution_count": null,
   "id": "7c661908",
   "metadata": {},
   "outputs": [],
   "source": [
    "print(accuracy_score(testy,rf_test_pred))\n",
    "print(accuracy_score(trainy,rf_train_pred))"
   ]
  },
  {
   "cell_type": "raw",
   "id": "7972051a",
   "metadata": {},
   "source": [
    "param_grid={'n_estimators':[100,400,200,300],'criterion':['gini','entropy'],'max_depth':[1,2,3],'min_samples_split':[2,4,3],'min_samples_leaf':[1,2,3],\n",
    "'max_leaf_nodes':[1,2,3],'max_samples':[2,4,3]}"
   ]
  },
  {
   "cell_type": "raw",
   "id": "6d5a3424",
   "metadata": {},
   "source": [
    "grid=GridSearchCV( estimator=rf,param_grid=param_grid,n_jobs=-1,cv=5,verbose=2)"
   ]
  },
  {
   "cell_type": "raw",
   "id": "5552fc22",
   "metadata": {},
   "source": [
    "grid.fit(trainx_res,trainy_res)"
   ]
  },
  {
   "cell_type": "raw",
   "id": "837dc8d7",
   "metadata": {},
   "source": [
    "grid.best_params_"
   ]
  },
  {
   "cell_type": "code",
   "execution_count": null,
   "id": "ba508555",
   "metadata": {},
   "outputs": [],
   "source": [
    "trainx_res.shape"
   ]
  },
  {
   "cell_type": "code",
   "execution_count": null,
   "id": "cdf1c363",
   "metadata": {},
   "outputs": [],
   "source": [
    "rf_grid=RandomForestClassifier(criterion= 'gini',max_depth=2,max_leaf_nodes=2,max_samples=3,min_samples_leaf= 1,\n",
    "                               min_samples_split=3,n_estimators=400,random_state=46)"
   ]
  },
  {
   "cell_type": "code",
   "execution_count": null,
   "id": "2206f1cc",
   "metadata": {},
   "outputs": [],
   "source": [
    "rf_grid.fit(trainx_res,trainy_res)"
   ]
  },
  {
   "cell_type": "code",
   "execution_count": null,
   "id": "71e40007",
   "metadata": {},
   "outputs": [],
   "source": [
    "rf_grid_test_pred=rf_grid.predict(testx)\n",
    "rf_grid_train_pred=rf_grid.predict(trainx)"
   ]
  },
  {
   "cell_type": "code",
   "execution_count": null,
   "id": "bae0a5da",
   "metadata": {},
   "outputs": [],
   "source": [
    "print(accuracy_score(testy,rf_grid_test_pred))\n",
    "print(accuracy_score(trainy,rf_grid_train_pred))"
   ]
  },
  {
   "cell_type": "code",
   "execution_count": null,
   "id": "8847f7ad",
   "metadata": {},
   "outputs": [],
   "source": [
    "confusion_matrix(testy,rf_grid_test_pred)"
   ]
  },
  {
   "cell_type": "code",
   "execution_count": null,
   "id": "49ffbeaf",
   "metadata": {},
   "outputs": [],
   "source": [
    "print(classification_report(testy,rf_grid_test_pred))"
   ]
  },
  {
   "cell_type": "markdown",
   "id": "2ad9f6b6",
   "metadata": {},
   "source": [
    "## DecisionTreeClassifier"
   ]
  },
  {
   "cell_type": "code",
   "execution_count": null,
   "id": "97b96919",
   "metadata": {},
   "outputs": [],
   "source": [
    "dc=DecisionTreeClassifier(random_state=42)"
   ]
  },
  {
   "cell_type": "code",
   "execution_count": null,
   "id": "300a4c5e",
   "metadata": {},
   "outputs": [],
   "source": [
    "dc.fit(trainx_res,trainy_res)"
   ]
  },
  {
   "cell_type": "code",
   "execution_count": null,
   "id": "fbc9a112",
   "metadata": {},
   "outputs": [],
   "source": [
    "dc_test_pred=dc.predict(testx)\n",
    "dc_train_pred=dc.predict(trainx)"
   ]
  },
  {
   "cell_type": "code",
   "execution_count": null,
   "id": "73f98f7a",
   "metadata": {},
   "outputs": [],
   "source": [
    "print(accuracy_score(testy,dc_test_pred))\n",
    "print(accuracy_score(trainy,dc_train_pred))"
   ]
  },
  {
   "cell_type": "raw",
   "id": "4560aa18",
   "metadata": {},
   "source": [
    "param_grid={'splitter':[\"best\", \"random\"],'criterion':['gini','entropy'],'max_depth':[1,2,3],\n",
    "'min_samples_split':[1,2,3],'min_samples_leaf':[1,2,3],'max_leaf_nodes':[1,2,3]}"
   ]
  },
  {
   "cell_type": "raw",
   "id": "6dce6122",
   "metadata": {},
   "source": [
    "dc_grid=GridSearchCV(estimator=dc,param_grid=param_grid,n_jobs=-1,cv=5,verbose=2)\n",
    "dc_grid.fit(trainx_res,trainy_res)"
   ]
  },
  {
   "cell_type": "raw",
   "id": "3120f17a",
   "metadata": {},
   "source": [
    "dc_grid.best_params_"
   ]
  },
  {
   "cell_type": "code",
   "execution_count": null,
   "id": "8a7ad55e",
   "metadata": {},
   "outputs": [],
   "source": [
    "grid_dc=DecisionTreeClassifier(criterion= 'entropy', max_depth=1,max_leaf_nodes=2,min_samples_leaf= 1,\n",
    "min_samples_split= 2,splitter='best',random_state=42)"
   ]
  },
  {
   "cell_type": "code",
   "execution_count": null,
   "id": "1c18fd4e",
   "metadata": {},
   "outputs": [],
   "source": [
    "grid_dc.fit(trainx_res,trainy_res)"
   ]
  },
  {
   "cell_type": "code",
   "execution_count": null,
   "id": "05612571",
   "metadata": {},
   "outputs": [],
   "source": [
    "dc_test_pred=grid_dc.predict(testx)\n",
    "dc_train_pred=grid_dc.predict(trainx)"
   ]
  },
  {
   "cell_type": "code",
   "execution_count": null,
   "id": "9cc4da40",
   "metadata": {},
   "outputs": [],
   "source": [
    "print(accuracy_score(testy,dc_test_pred))\n",
    "print(accuracy_score(trainy,dc_train_pred))"
   ]
  },
  {
   "cell_type": "markdown",
   "id": "23ab8cbd",
   "metadata": {},
   "source": [
    "## XGBClassifier"
   ]
  },
  {
   "cell_type": "code",
   "execution_count": null,
   "id": "c5af59ff",
   "metadata": {},
   "outputs": [],
   "source": [
    "from xgboost import XGBClassifier"
   ]
  },
  {
   "cell_type": "code",
   "execution_count": null,
   "id": "6d821407",
   "metadata": {},
   "outputs": [],
   "source": [
    "xgb=XGBClassifier()"
   ]
  },
  {
   "cell_type": "code",
   "execution_count": null,
   "id": "2e9e9240",
   "metadata": {},
   "outputs": [],
   "source": [
    "xgb.fit(trainx_res,trainy_res)"
   ]
  },
  {
   "cell_type": "code",
   "execution_count": null,
   "id": "091bf104",
   "metadata": {},
   "outputs": [],
   "source": [
    "xgb_test_pred=xgb.predict(testx)\n",
    "xgb_train_pred=xgb.predict(trainx)"
   ]
  },
  {
   "cell_type": "code",
   "execution_count": null,
   "id": "d4d4918a",
   "metadata": {},
   "outputs": [],
   "source": [
    "print(accuracy_score(testy,xgb_test_pred))\n",
    "print(accuracy_score(trainy,xgb_train_pred))"
   ]
  },
  {
   "cell_type": "markdown",
   "id": "4f54b60e",
   "metadata": {},
   "source": [
    "## Support Vector Machines"
   ]
  },
  {
   "cell_type": "code",
   "execution_count": null,
   "id": "d01585c3",
   "metadata": {},
   "outputs": [],
   "source": [
    "svc=SVC(random_state=42,probability=True)"
   ]
  },
  {
   "cell_type": "markdown",
   "id": "3b7eb949",
   "metadata": {},
   "source": [
    "svc.fit(trainx_res,trainy_res)"
   ]
  },
  {
   "cell_type": "code",
   "execution_count": null,
   "id": "167ca8b8",
   "metadata": {},
   "outputs": [],
   "source": [
    "svc_test_pred=svc.predict(testx)\n",
    "svc_train_pred=svc.predict(trainx)"
   ]
  },
  {
   "cell_type": "code",
   "execution_count": null,
   "id": "711ea110",
   "metadata": {},
   "outputs": [],
   "source": [
    "print(accuracy_score(testy,svc_test_pred))\n",
    "print(accuracy_score(trainy,svc_train_pred))"
   ]
  },
  {
   "cell_type": "raw",
   "id": "ac6201ef",
   "metadata": {},
   "source": [
    "We can see from above classification algorithms Random Forest Classifier gives highest accuracy."
   ]
  },
  {
   "cell_type": "code",
   "execution_count": null,
   "id": "88cab80c",
   "metadata": {},
   "outputs": [],
   "source": [
    "l"
   ]
  },
  {
   "cell_type": "code",
   "execution_count": null,
   "id": "8cc0784d",
   "metadata": {},
   "outputs": [],
   "source": [
    "import pickle"
   ]
  },
  {
   "cell_type": "code",
   "execution_count": null,
   "id": "c9482254",
   "metadata": {},
   "outputs": [],
   "source": [
    "file=open('diabetic_model.pkl','wb')"
   ]
  },
  {
   "cell_type": "code",
   "execution_count": null,
   "id": "67deb859",
   "metadata": {},
   "outputs": [],
   "source": [
    "pickle.dump(rf_grid,file)"
   ]
  },
  {
   "cell_type": "code",
   "execution_count": null,
   "id": "5fcef13d",
   "metadata": {},
   "outputs": [],
   "source": []
  }
 ],
 "metadata": {
  "kernelspec": {
   "display_name": "Python 3",
   "language": "python",
   "name": "python3"
  },
  "language_info": {
   "codemirror_mode": {
    "name": "ipython",
    "version": 3
   },
   "file_extension": ".py",
   "mimetype": "text/x-python",
   "name": "python",
   "nbconvert_exporter": "python",
   "pygments_lexer": "ipython3",
   "version": "3.8.8"
  }
 },
 "nbformat": 4,
 "nbformat_minor": 5
}
